{
 "cells": [
  {
   "cell_type": "markdown",
   "metadata": {},
   "source": [
    "### Проект 4. Компьютер говорит нет ¶\n",
    "#### Исполнитель: Богданова Юлия\n",
    "#### Группа: SF-DST-34"
   ]
  },
  {
   "cell_type": "markdown",
   "metadata": {},
   "source": [
    "![](https://www.pata.org/wp-content/uploads/2014/09/TripAdvisor_Logo-300x119.png)\n",
    "# Credit Scoring\n",
    "## Прогнозирование вероятности дефолта заемщика"
   ]
  },
  {
   "cell_type": "markdown",
   "metadata": {},
   "source": [
    "Предоставлена информация из анкетных данных заемщиков и факт наличия дефолта."
   ]
  },
  {
   "cell_type": "markdown",
   "metadata": {},
   "source": [
    "## 0. Импорт библиотек"
   ]
  },
  {
   "cell_type": "code",
   "execution_count": 1,
   "metadata": {
    "_cell_guid": "b1076dfc-b9ad-4769-8c92-a6c4dae69d19",
    "_uuid": "8f2839f25d086af736a60e9eeb907d3b93b6e0e5"
   },
   "outputs": [],
   "source": [
    "from pandas import Series\n",
    "import pandas as pd\n",
    "import numpy as np\n",
    "from datetime import datetime, date, time\n",
    "\n",
    "import matplotlib.pyplot as plt\n",
    "import seaborn as sns\n",
    "\n",
    "from sklearn.feature_selection import f_classif, mutual_info_classif\n",
    "from sklearn.preprocessing import LabelEncoder, StandardScaler, PolynomialFeatures\n",
    "\n",
    "from sklearn.model_selection import train_test_split\n",
    "from sklearn.model_selection import GridSearchCV\n",
    "from sklearn.linear_model import LogisticRegression\n",
    "\n",
    "from sklearn.metrics import confusion_matrix\n",
    "from sklearn.metrics import f1_score, accuracy_score, recall_score, precision_score\n",
    "from sklearn.metrics import cohen_kappa_score\n",
    "from sklearn.metrics import auc, roc_auc_score, roc_curve\n",
    "\n",
    "import warnings\n",
    "warnings.filterwarnings('ignore')"
   ]
  },
  {
   "cell_type": "code",
   "execution_count": 2,
   "metadata": {},
   "outputs": [],
   "source": [
    "# Фиксируем RANDOM_SEED, чтобы эксперименты были воспроизводимы\n",
    "RANDOM_SEED = 42"
   ]
  },
  {
   "cell_type": "code",
   "execution_count": 3,
   "metadata": {},
   "outputs": [],
   "source": [
    "# Зафиксируем версию пакетов, чтобы эксперименты были воспроизводимы\n",
    "!pip freeze > requirements.txt"
   ]
  },
  {
   "cell_type": "markdown",
   "metadata": {},
   "source": [
    "## 1. Импорт данных"
   ]
  },
  {
   "cell_type": "code",
   "execution_count": 4,
   "metadata": {
    "_cell_guid": "79c7e3d0-c299-4dcb-8224-4455121ee9b0",
    "_uuid": "d629ff2d2480ee46fbb7e2d37f6b5fab8052498a"
   },
   "outputs": [],
   "source": [
    "df_train = pd.read_csv(\"./train.csv/train.csv\")\n",
    "df_test = pd.read_csv(\"./test.csv/test.csv\")\n",
    "sample_submission = pd.read_csv('./sample_submission.csv')"
   ]
  },
  {
   "cell_type": "code",
   "execution_count": 5,
   "metadata": {},
   "outputs": [
    {
     "name": "stdout",
     "output_type": "stream",
     "text": [
      "<class 'pandas.core.frame.DataFrame'>\n",
      "RangeIndex: 73799 entries, 0 to 73798\n",
      "Data columns (total 19 columns):\n",
      " #   Column            Non-Null Count  Dtype  \n",
      "---  ------            --------------  -----  \n",
      " 0   client_id         73799 non-null  int64  \n",
      " 1   app_date          73799 non-null  object \n",
      " 2   education         73492 non-null  object \n",
      " 3   sex               73799 non-null  object \n",
      " 4   age               73799 non-null  int64  \n",
      " 5   car               73799 non-null  object \n",
      " 6   car_type          73799 non-null  object \n",
      " 7   decline_app_cnt   73799 non-null  int64  \n",
      " 8   good_work         73799 non-null  int64  \n",
      " 9   score_bki         73799 non-null  float64\n",
      " 10  bki_request_cnt   73799 non-null  int64  \n",
      " 11  region_rating     73799 non-null  int64  \n",
      " 12  home_address      73799 non-null  int64  \n",
      " 13  work_address      73799 non-null  int64  \n",
      " 14  income            73799 non-null  int64  \n",
      " 15  sna               73799 non-null  int64  \n",
      " 16  first_time        73799 non-null  int64  \n",
      " 17  foreign_passport  73799 non-null  object \n",
      " 18  default           73799 non-null  int64  \n",
      "dtypes: float64(1), int64(12), object(6)\n",
      "memory usage: 10.7+ MB\n"
     ]
    }
   ],
   "source": [
    "df_train.info()"
   ]
  },
  {
   "cell_type": "code",
   "execution_count": 6,
   "metadata": {},
   "outputs": [
    {
     "data": {
      "text/html": [
       "<div>\n",
       "<style scoped>\n",
       "    .dataframe tbody tr th:only-of-type {\n",
       "        vertical-align: middle;\n",
       "    }\n",
       "\n",
       "    .dataframe tbody tr th {\n",
       "        vertical-align: top;\n",
       "    }\n",
       "\n",
       "    .dataframe thead th {\n",
       "        text-align: right;\n",
       "    }\n",
       "</style>\n",
       "<table border=\"1\" class=\"dataframe\">\n",
       "  <thead>\n",
       "    <tr style=\"text-align: right;\">\n",
       "      <th></th>\n",
       "      <th>client_id</th>\n",
       "      <th>app_date</th>\n",
       "      <th>education</th>\n",
       "      <th>sex</th>\n",
       "      <th>age</th>\n",
       "      <th>car</th>\n",
       "      <th>car_type</th>\n",
       "      <th>decline_app_cnt</th>\n",
       "      <th>good_work</th>\n",
       "      <th>score_bki</th>\n",
       "      <th>bki_request_cnt</th>\n",
       "      <th>region_rating</th>\n",
       "      <th>home_address</th>\n",
       "      <th>work_address</th>\n",
       "      <th>income</th>\n",
       "      <th>sna</th>\n",
       "      <th>first_time</th>\n",
       "      <th>foreign_passport</th>\n",
       "      <th>default</th>\n",
       "    </tr>\n",
       "  </thead>\n",
       "  <tbody>\n",
       "    <tr>\n",
       "      <th>0</th>\n",
       "      <td>25905</td>\n",
       "      <td>01FEB2014</td>\n",
       "      <td>SCH</td>\n",
       "      <td>M</td>\n",
       "      <td>62</td>\n",
       "      <td>Y</td>\n",
       "      <td>Y</td>\n",
       "      <td>0</td>\n",
       "      <td>0</td>\n",
       "      <td>-2.008753</td>\n",
       "      <td>1</td>\n",
       "      <td>50</td>\n",
       "      <td>1</td>\n",
       "      <td>2</td>\n",
       "      <td>18000</td>\n",
       "      <td>4</td>\n",
       "      <td>1</td>\n",
       "      <td>N</td>\n",
       "      <td>0</td>\n",
       "    </tr>\n",
       "    <tr>\n",
       "      <th>1</th>\n",
       "      <td>63161</td>\n",
       "      <td>12MAR2014</td>\n",
       "      <td>SCH</td>\n",
       "      <td>F</td>\n",
       "      <td>59</td>\n",
       "      <td>N</td>\n",
       "      <td>N</td>\n",
       "      <td>0</td>\n",
       "      <td>0</td>\n",
       "      <td>-1.532276</td>\n",
       "      <td>3</td>\n",
       "      <td>50</td>\n",
       "      <td>2</td>\n",
       "      <td>3</td>\n",
       "      <td>19000</td>\n",
       "      <td>4</td>\n",
       "      <td>1</td>\n",
       "      <td>N</td>\n",
       "      <td>0</td>\n",
       "    </tr>\n",
       "    <tr>\n",
       "      <th>2</th>\n",
       "      <td>25887</td>\n",
       "      <td>01FEB2014</td>\n",
       "      <td>SCH</td>\n",
       "      <td>M</td>\n",
       "      <td>25</td>\n",
       "      <td>Y</td>\n",
       "      <td>N</td>\n",
       "      <td>2</td>\n",
       "      <td>0</td>\n",
       "      <td>-1.408142</td>\n",
       "      <td>1</td>\n",
       "      <td>80</td>\n",
       "      <td>1</td>\n",
       "      <td>2</td>\n",
       "      <td>30000</td>\n",
       "      <td>1</td>\n",
       "      <td>4</td>\n",
       "      <td>Y</td>\n",
       "      <td>0</td>\n",
       "    </tr>\n",
       "    <tr>\n",
       "      <th>3</th>\n",
       "      <td>16222</td>\n",
       "      <td>23JAN2014</td>\n",
       "      <td>SCH</td>\n",
       "      <td>F</td>\n",
       "      <td>53</td>\n",
       "      <td>N</td>\n",
       "      <td>N</td>\n",
       "      <td>0</td>\n",
       "      <td>0</td>\n",
       "      <td>-2.057471</td>\n",
       "      <td>2</td>\n",
       "      <td>50</td>\n",
       "      <td>2</td>\n",
       "      <td>3</td>\n",
       "      <td>10000</td>\n",
       "      <td>1</td>\n",
       "      <td>3</td>\n",
       "      <td>N</td>\n",
       "      <td>0</td>\n",
       "    </tr>\n",
       "    <tr>\n",
       "      <th>4</th>\n",
       "      <td>101655</td>\n",
       "      <td>18APR2014</td>\n",
       "      <td>GRD</td>\n",
       "      <td>M</td>\n",
       "      <td>48</td>\n",
       "      <td>N</td>\n",
       "      <td>N</td>\n",
       "      <td>0</td>\n",
       "      <td>1</td>\n",
       "      <td>-1.244723</td>\n",
       "      <td>1</td>\n",
       "      <td>60</td>\n",
       "      <td>2</td>\n",
       "      <td>3</td>\n",
       "      <td>30000</td>\n",
       "      <td>1</td>\n",
       "      <td>4</td>\n",
       "      <td>Y</td>\n",
       "      <td>0</td>\n",
       "    </tr>\n",
       "  </tbody>\n",
       "</table>\n",
       "</div>"
      ],
      "text/plain": [
       "   client_id   app_date education sex  age car car_type  decline_app_cnt  \\\n",
       "0      25905  01FEB2014       SCH   M   62   Y        Y                0   \n",
       "1      63161  12MAR2014       SCH   F   59   N        N                0   \n",
       "2      25887  01FEB2014       SCH   M   25   Y        N                2   \n",
       "3      16222  23JAN2014       SCH   F   53   N        N                0   \n",
       "4     101655  18APR2014       GRD   M   48   N        N                0   \n",
       "\n",
       "   good_work  score_bki  bki_request_cnt  region_rating  home_address  \\\n",
       "0          0  -2.008753                1             50             1   \n",
       "1          0  -1.532276                3             50             2   \n",
       "2          0  -1.408142                1             80             1   \n",
       "3          0  -2.057471                2             50             2   \n",
       "4          1  -1.244723                1             60             2   \n",
       "\n",
       "   work_address  income  sna  first_time foreign_passport  default  \n",
       "0             2   18000    4           1                N        0  \n",
       "1             3   19000    4           1                N        0  \n",
       "2             2   30000    1           4                Y        0  \n",
       "3             3   10000    1           3                N        0  \n",
       "4             3   30000    1           4                Y        0  "
      ]
     },
     "execution_count": 6,
     "metadata": {},
     "output_type": "execute_result"
    }
   ],
   "source": [
    "df_train.head(5)"
   ]
  },
  {
   "cell_type": "code",
   "execution_count": 7,
   "metadata": {},
   "outputs": [
    {
     "name": "stdout",
     "output_type": "stream",
     "text": [
      "<class 'pandas.core.frame.DataFrame'>\n",
      "RangeIndex: 36349 entries, 0 to 36348\n",
      "Data columns (total 18 columns):\n",
      " #   Column            Non-Null Count  Dtype  \n",
      "---  ------            --------------  -----  \n",
      " 0   client_id         36349 non-null  int64  \n",
      " 1   app_date          36349 non-null  object \n",
      " 2   education         36178 non-null  object \n",
      " 3   sex               36349 non-null  object \n",
      " 4   age               36349 non-null  int64  \n",
      " 5   car               36349 non-null  object \n",
      " 6   car_type          36349 non-null  object \n",
      " 7   decline_app_cnt   36349 non-null  int64  \n",
      " 8   good_work         36349 non-null  int64  \n",
      " 9   score_bki         36349 non-null  float64\n",
      " 10  bki_request_cnt   36349 non-null  int64  \n",
      " 11  region_rating     36349 non-null  int64  \n",
      " 12  home_address      36349 non-null  int64  \n",
      " 13  work_address      36349 non-null  int64  \n",
      " 14  income            36349 non-null  int64  \n",
      " 15  sna               36349 non-null  int64  \n",
      " 16  first_time        36349 non-null  int64  \n",
      " 17  foreign_passport  36349 non-null  object \n",
      "dtypes: float64(1), int64(11), object(6)\n",
      "memory usage: 5.0+ MB\n"
     ]
    }
   ],
   "source": [
    "df_test.info()"
   ]
  },
  {
   "cell_type": "code",
   "execution_count": 8,
   "metadata": {},
   "outputs": [
    {
     "data": {
      "text/html": [
       "<div>\n",
       "<style scoped>\n",
       "    .dataframe tbody tr th:only-of-type {\n",
       "        vertical-align: middle;\n",
       "    }\n",
       "\n",
       "    .dataframe tbody tr th {\n",
       "        vertical-align: top;\n",
       "    }\n",
       "\n",
       "    .dataframe thead th {\n",
       "        text-align: right;\n",
       "    }\n",
       "</style>\n",
       "<table border=\"1\" class=\"dataframe\">\n",
       "  <thead>\n",
       "    <tr style=\"text-align: right;\">\n",
       "      <th></th>\n",
       "      <th>client_id</th>\n",
       "      <th>app_date</th>\n",
       "      <th>education</th>\n",
       "      <th>sex</th>\n",
       "      <th>age</th>\n",
       "      <th>car</th>\n",
       "      <th>car_type</th>\n",
       "      <th>decline_app_cnt</th>\n",
       "      <th>good_work</th>\n",
       "      <th>score_bki</th>\n",
       "      <th>bki_request_cnt</th>\n",
       "      <th>region_rating</th>\n",
       "      <th>home_address</th>\n",
       "      <th>work_address</th>\n",
       "      <th>income</th>\n",
       "      <th>sna</th>\n",
       "      <th>first_time</th>\n",
       "      <th>foreign_passport</th>\n",
       "    </tr>\n",
       "  </thead>\n",
       "  <tbody>\n",
       "    <tr>\n",
       "      <th>0</th>\n",
       "      <td>74835</td>\n",
       "      <td>22MAR2014</td>\n",
       "      <td>GRD</td>\n",
       "      <td>M</td>\n",
       "      <td>29</td>\n",
       "      <td>Y</td>\n",
       "      <td>Y</td>\n",
       "      <td>0</td>\n",
       "      <td>0</td>\n",
       "      <td>-2.271884</td>\n",
       "      <td>3</td>\n",
       "      <td>50</td>\n",
       "      <td>1</td>\n",
       "      <td>2</td>\n",
       "      <td>50000</td>\n",
       "      <td>1</td>\n",
       "      <td>4</td>\n",
       "      <td>N</td>\n",
       "    </tr>\n",
       "    <tr>\n",
       "      <th>1</th>\n",
       "      <td>17527</td>\n",
       "      <td>24JAN2014</td>\n",
       "      <td>SCH</td>\n",
       "      <td>F</td>\n",
       "      <td>39</td>\n",
       "      <td>N</td>\n",
       "      <td>N</td>\n",
       "      <td>5</td>\n",
       "      <td>0</td>\n",
       "      <td>-1.504999</td>\n",
       "      <td>2</td>\n",
       "      <td>50</td>\n",
       "      <td>1</td>\n",
       "      <td>2</td>\n",
       "      <td>5000</td>\n",
       "      <td>4</td>\n",
       "      <td>3</td>\n",
       "      <td>N</td>\n",
       "    </tr>\n",
       "    <tr>\n",
       "      <th>2</th>\n",
       "      <td>75683</td>\n",
       "      <td>23MAR2014</td>\n",
       "      <td>UGR</td>\n",
       "      <td>M</td>\n",
       "      <td>50</td>\n",
       "      <td>Y</td>\n",
       "      <td>Y</td>\n",
       "      <td>0</td>\n",
       "      <td>0</td>\n",
       "      <td>-1.691339</td>\n",
       "      <td>1</td>\n",
       "      <td>50</td>\n",
       "      <td>1</td>\n",
       "      <td>2</td>\n",
       "      <td>30000</td>\n",
       "      <td>1</td>\n",
       "      <td>3</td>\n",
       "      <td>Y</td>\n",
       "    </tr>\n",
       "    <tr>\n",
       "      <th>3</th>\n",
       "      <td>26883</td>\n",
       "      <td>03FEB2014</td>\n",
       "      <td>SCH</td>\n",
       "      <td>M</td>\n",
       "      <td>56</td>\n",
       "      <td>N</td>\n",
       "      <td>N</td>\n",
       "      <td>0</td>\n",
       "      <td>0</td>\n",
       "      <td>-2.374182</td>\n",
       "      <td>1</td>\n",
       "      <td>40</td>\n",
       "      <td>1</td>\n",
       "      <td>2</td>\n",
       "      <td>17000</td>\n",
       "      <td>1</td>\n",
       "      <td>3</td>\n",
       "      <td>N</td>\n",
       "    </tr>\n",
       "    <tr>\n",
       "      <th>4</th>\n",
       "      <td>28862</td>\n",
       "      <td>04FEB2014</td>\n",
       "      <td>GRD</td>\n",
       "      <td>F</td>\n",
       "      <td>38</td>\n",
       "      <td>N</td>\n",
       "      <td>N</td>\n",
       "      <td>0</td>\n",
       "      <td>0</td>\n",
       "      <td>-2.487502</td>\n",
       "      <td>0</td>\n",
       "      <td>80</td>\n",
       "      <td>2</td>\n",
       "      <td>3</td>\n",
       "      <td>120000</td>\n",
       "      <td>1</td>\n",
       "      <td>3</td>\n",
       "      <td>N</td>\n",
       "    </tr>\n",
       "  </tbody>\n",
       "</table>\n",
       "</div>"
      ],
      "text/plain": [
       "   client_id   app_date education sex  age car car_type  decline_app_cnt  \\\n",
       "0      74835  22MAR2014       GRD   M   29   Y        Y                0   \n",
       "1      17527  24JAN2014       SCH   F   39   N        N                5   \n",
       "2      75683  23MAR2014       UGR   M   50   Y        Y                0   \n",
       "3      26883  03FEB2014       SCH   M   56   N        N                0   \n",
       "4      28862  04FEB2014       GRD   F   38   N        N                0   \n",
       "\n",
       "   good_work  score_bki  bki_request_cnt  region_rating  home_address  \\\n",
       "0          0  -2.271884                3             50             1   \n",
       "1          0  -1.504999                2             50             1   \n",
       "2          0  -1.691339                1             50             1   \n",
       "3          0  -2.374182                1             40             1   \n",
       "4          0  -2.487502                0             80             2   \n",
       "\n",
       "   work_address  income  sna  first_time foreign_passport  \n",
       "0             2   50000    1           4                N  \n",
       "1             2    5000    4           3                N  \n",
       "2             2   30000    1           3                Y  \n",
       "3             2   17000    1           3                N  \n",
       "4             3  120000    1           3                N  "
      ]
     },
     "execution_count": 8,
     "metadata": {},
     "output_type": "execute_result"
    }
   ],
   "source": [
    "df_test.head(5)"
   ]
  },
  {
   "cell_type": "code",
   "execution_count": 9,
   "metadata": {},
   "outputs": [
    {
     "data": {
      "text/html": [
       "<div>\n",
       "<style scoped>\n",
       "    .dataframe tbody tr th:only-of-type {\n",
       "        vertical-align: middle;\n",
       "    }\n",
       "\n",
       "    .dataframe tbody tr th {\n",
       "        vertical-align: top;\n",
       "    }\n",
       "\n",
       "    .dataframe thead th {\n",
       "        text-align: right;\n",
       "    }\n",
       "</style>\n",
       "<table border=\"1\" class=\"dataframe\">\n",
       "  <thead>\n",
       "    <tr style=\"text-align: right;\">\n",
       "      <th></th>\n",
       "      <th>client_id</th>\n",
       "      <th>default</th>\n",
       "    </tr>\n",
       "  </thead>\n",
       "  <tbody>\n",
       "    <tr>\n",
       "      <th>0</th>\n",
       "      <td>66799</td>\n",
       "      <td>0.441004</td>\n",
       "    </tr>\n",
       "    <tr>\n",
       "      <th>1</th>\n",
       "      <td>25379</td>\n",
       "      <td>0.138092</td>\n",
       "    </tr>\n",
       "    <tr>\n",
       "      <th>2</th>\n",
       "      <td>28825</td>\n",
       "      <td>0.373370</td>\n",
       "    </tr>\n",
       "    <tr>\n",
       "      <th>3</th>\n",
       "      <td>37530</td>\n",
       "      <td>0.476501</td>\n",
       "    </tr>\n",
       "    <tr>\n",
       "      <th>4</th>\n",
       "      <td>4264</td>\n",
       "      <td>0.304640</td>\n",
       "    </tr>\n",
       "  </tbody>\n",
       "</table>\n",
       "</div>"
      ],
      "text/plain": [
       "   client_id   default\n",
       "0      66799  0.441004\n",
       "1      25379  0.138092\n",
       "2      28825  0.373370\n",
       "3      37530  0.476501\n",
       "4       4264  0.304640"
      ]
     },
     "execution_count": 9,
     "metadata": {},
     "output_type": "execute_result"
    }
   ],
   "source": [
    "sample_submission.head(5)"
   ]
  },
  {
   "cell_type": "code",
   "execution_count": 10,
   "metadata": {},
   "outputs": [
    {
     "name": "stdout",
     "output_type": "stream",
     "text": [
      "<class 'pandas.core.frame.DataFrame'>\n",
      "RangeIndex: 24354 entries, 0 to 24353\n",
      "Data columns (total 2 columns):\n",
      " #   Column     Non-Null Count  Dtype  \n",
      "---  ------     --------------  -----  \n",
      " 0   client_id  24354 non-null  int64  \n",
      " 1   default    24354 non-null  float64\n",
      "dtypes: float64(1), int64(1)\n",
      "memory usage: 380.7 KB\n"
     ]
    }
   ],
   "source": [
    "sample_submission.info()"
   ]
  },
  {
   "cell_type": "code",
   "execution_count": 11,
   "metadata": {},
   "outputs": [],
   "source": [
    "# Для корректной обработки признаков объединяем трейн и тест в один датасет\n",
    "df_train['sample'] = 1 # помечаем где у нас трейн\n",
    "df_test['sample'] = 0 # помечаем где у нас тест\n",
    "df_test['default'] = 0 # в тесте у нас нет значения default, мы его должны предсказать, по этому пока просто заполняем нулями\n",
    "\n",
    "df = df_test.append(df_train, sort=False).reset_index(drop=True) # объединяем"
   ]
  },
  {
   "cell_type": "code",
   "execution_count": 12,
   "metadata": {},
   "outputs": [
    {
     "name": "stdout",
     "output_type": "stream",
     "text": [
      "<class 'pandas.core.frame.DataFrame'>\n",
      "RangeIndex: 110148 entries, 0 to 110147\n",
      "Data columns (total 20 columns):\n",
      " #   Column            Non-Null Count   Dtype  \n",
      "---  ------            --------------   -----  \n",
      " 0   client_id         110148 non-null  int64  \n",
      " 1   app_date          110148 non-null  object \n",
      " 2   education         109670 non-null  object \n",
      " 3   sex               110148 non-null  object \n",
      " 4   age               110148 non-null  int64  \n",
      " 5   car               110148 non-null  object \n",
      " 6   car_type          110148 non-null  object \n",
      " 7   decline_app_cnt   110148 non-null  int64  \n",
      " 8   good_work         110148 non-null  int64  \n",
      " 9   score_bki         110148 non-null  float64\n",
      " 10  bki_request_cnt   110148 non-null  int64  \n",
      " 11  region_rating     110148 non-null  int64  \n",
      " 12  home_address      110148 non-null  int64  \n",
      " 13  work_address      110148 non-null  int64  \n",
      " 14  income            110148 non-null  int64  \n",
      " 15  sna               110148 non-null  int64  \n",
      " 16  first_time        110148 non-null  int64  \n",
      " 17  foreign_passport  110148 non-null  object \n",
      " 18  sample            110148 non-null  int64  \n",
      " 19  default           110148 non-null  int64  \n",
      "dtypes: float64(1), int64(13), object(6)\n",
      "memory usage: 16.8+ MB\n"
     ]
    }
   ],
   "source": [
    "df.info()"
   ]
  },
  {
   "cell_type": "markdown",
   "metadata": {},
   "source": [
    "Описание полей:\n",
    "\n",
    "* client_id - идентификатор клиента\n",
    "* app_date - дата подачи заявки\n",
    "* education - уровень образования\n",
    "* sex - пол заемщика\n",
    "* age - возраст заемщика\n",
    "* car - флаг наличия автомобиля\n",
    "* car_type - флаг автомобиля иномарки\n",
    "* decline_app_cnt - количество отказанных прошлых заявок\n",
    "* good_work - флаг наличия “хорошей” работы\n",
    "* score_bki - скоринговый балл по данным из БКИ\n",
    "* bki_request_cnt - количество запросов в БКИ\n",
    "* region_rating - рейтинг региона\n",
    "* home_address - категоризатор домашнего адреса\n",
    "* work_address - категоризатор рабочего адреса\n",
    "* income - доход заемщика\n",
    "* sna - связь заемщика с клиентами банка\n",
    "* first_time - давность наличия информации о заемщике\n",
    "* foreign_passport - наличие загранпаспорта\n",
    "* default - флаг дефолта по кредиту"
   ]
  },
  {
   "cell_type": "code",
   "execution_count": 13,
   "metadata": {},
   "outputs": [
    {
     "data": {
      "text/html": [
       "<div>\n",
       "<style scoped>\n",
       "    .dataframe tbody tr th:only-of-type {\n",
       "        vertical-align: middle;\n",
       "    }\n",
       "\n",
       "    .dataframe tbody tr th {\n",
       "        vertical-align: top;\n",
       "    }\n",
       "\n",
       "    .dataframe thead th {\n",
       "        text-align: right;\n",
       "    }\n",
       "</style>\n",
       "<table border=\"1\" class=\"dataframe\">\n",
       "  <thead>\n",
       "    <tr style=\"text-align: right;\">\n",
       "      <th></th>\n",
       "      <th>client_id</th>\n",
       "      <th>app_date</th>\n",
       "      <th>education</th>\n",
       "      <th>sex</th>\n",
       "      <th>age</th>\n",
       "      <th>car</th>\n",
       "      <th>car_type</th>\n",
       "      <th>decline_app_cnt</th>\n",
       "      <th>good_work</th>\n",
       "      <th>score_bki</th>\n",
       "      <th>bki_request_cnt</th>\n",
       "      <th>region_rating</th>\n",
       "      <th>home_address</th>\n",
       "      <th>work_address</th>\n",
       "      <th>income</th>\n",
       "      <th>sna</th>\n",
       "      <th>first_time</th>\n",
       "      <th>foreign_passport</th>\n",
       "      <th>sample</th>\n",
       "      <th>default</th>\n",
       "    </tr>\n",
       "  </thead>\n",
       "  <tbody>\n",
       "    <tr>\n",
       "      <th>29635</th>\n",
       "      <td>49763</td>\n",
       "      <td>26FEB2014</td>\n",
       "      <td>SCH</td>\n",
       "      <td>F</td>\n",
       "      <td>45</td>\n",
       "      <td>Y</td>\n",
       "      <td>Y</td>\n",
       "      <td>0</td>\n",
       "      <td>0</td>\n",
       "      <td>-2.307679</td>\n",
       "      <td>0</td>\n",
       "      <td>70</td>\n",
       "      <td>1</td>\n",
       "      <td>2</td>\n",
       "      <td>25000</td>\n",
       "      <td>1</td>\n",
       "      <td>3</td>\n",
       "      <td>Y</td>\n",
       "      <td>0</td>\n",
       "      <td>0</td>\n",
       "    </tr>\n",
       "    <tr>\n",
       "      <th>101820</th>\n",
       "      <td>43791</td>\n",
       "      <td>20FEB2014</td>\n",
       "      <td>SCH</td>\n",
       "      <td>F</td>\n",
       "      <td>27</td>\n",
       "      <td>N</td>\n",
       "      <td>N</td>\n",
       "      <td>0</td>\n",
       "      <td>0</td>\n",
       "      <td>-1.986297</td>\n",
       "      <td>3</td>\n",
       "      <td>60</td>\n",
       "      <td>2</td>\n",
       "      <td>3</td>\n",
       "      <td>27000</td>\n",
       "      <td>3</td>\n",
       "      <td>2</td>\n",
       "      <td>N</td>\n",
       "      <td>1</td>\n",
       "      <td>1</td>\n",
       "    </tr>\n",
       "    <tr>\n",
       "      <th>107943</th>\n",
       "      <td>104541</td>\n",
       "      <td>23APR2014</td>\n",
       "      <td>UGR</td>\n",
       "      <td>F</td>\n",
       "      <td>37</td>\n",
       "      <td>N</td>\n",
       "      <td>N</td>\n",
       "      <td>0</td>\n",
       "      <td>1</td>\n",
       "      <td>-2.303327</td>\n",
       "      <td>1</td>\n",
       "      <td>60</td>\n",
       "      <td>2</td>\n",
       "      <td>3</td>\n",
       "      <td>25000</td>\n",
       "      <td>1</td>\n",
       "      <td>4</td>\n",
       "      <td>N</td>\n",
       "      <td>1</td>\n",
       "      <td>0</td>\n",
       "    </tr>\n",
       "    <tr>\n",
       "      <th>40094</th>\n",
       "      <td>69154</td>\n",
       "      <td>17MAR2014</td>\n",
       "      <td>GRD</td>\n",
       "      <td>F</td>\n",
       "      <td>34</td>\n",
       "      <td>Y</td>\n",
       "      <td>Y</td>\n",
       "      <td>0</td>\n",
       "      <td>1</td>\n",
       "      <td>-2.291033</td>\n",
       "      <td>1</td>\n",
       "      <td>70</td>\n",
       "      <td>1</td>\n",
       "      <td>3</td>\n",
       "      <td>60000</td>\n",
       "      <td>1</td>\n",
       "      <td>4</td>\n",
       "      <td>N</td>\n",
       "      <td>1</td>\n",
       "      <td>1</td>\n",
       "    </tr>\n",
       "    <tr>\n",
       "      <th>49480</th>\n",
       "      <td>13403</td>\n",
       "      <td>21JAN2014</td>\n",
       "      <td>SCH</td>\n",
       "      <td>M</td>\n",
       "      <td>38</td>\n",
       "      <td>Y</td>\n",
       "      <td>N</td>\n",
       "      <td>0</td>\n",
       "      <td>0</td>\n",
       "      <td>-2.136227</td>\n",
       "      <td>0</td>\n",
       "      <td>60</td>\n",
       "      <td>1</td>\n",
       "      <td>2</td>\n",
       "      <td>70000</td>\n",
       "      <td>1</td>\n",
       "      <td>3</td>\n",
       "      <td>Y</td>\n",
       "      <td>1</td>\n",
       "      <td>0</td>\n",
       "    </tr>\n",
       "  </tbody>\n",
       "</table>\n",
       "</div>"
      ],
      "text/plain": [
       "        client_id   app_date education sex  age car car_type  decline_app_cnt  \\\n",
       "29635       49763  26FEB2014       SCH   F   45   Y        Y                0   \n",
       "101820      43791  20FEB2014       SCH   F   27   N        N                0   \n",
       "107943     104541  23APR2014       UGR   F   37   N        N                0   \n",
       "40094       69154  17MAR2014       GRD   F   34   Y        Y                0   \n",
       "49480       13403  21JAN2014       SCH   M   38   Y        N                0   \n",
       "\n",
       "        good_work  score_bki  bki_request_cnt  region_rating  home_address  \\\n",
       "29635           0  -2.307679                0             70             1   \n",
       "101820          0  -1.986297                3             60             2   \n",
       "107943          1  -2.303327                1             60             2   \n",
       "40094           1  -2.291033                1             70             1   \n",
       "49480           0  -2.136227                0             60             1   \n",
       "\n",
       "        work_address  income  sna  first_time foreign_passport  sample  \\\n",
       "29635              2   25000    1           3                Y       0   \n",
       "101820             3   27000    3           2                N       1   \n",
       "107943             3   25000    1           4                N       1   \n",
       "40094              3   60000    1           4                N       1   \n",
       "49480              2   70000    1           3                Y       1   \n",
       "\n",
       "        default  \n",
       "29635         0  \n",
       "101820        1  \n",
       "107943        0  \n",
       "40094         1  \n",
       "49480         0  "
      ]
     },
     "execution_count": 13,
     "metadata": {},
     "output_type": "execute_result"
    }
   ],
   "source": [
    "df.sample(5)"
   ]
  },
  {
   "cell_type": "markdown",
   "metadata": {},
   "source": [
    "Видно, что признак edication содержит пустые значения. Кроме того, имеются строковые признаки, которые требуют предобработки."
   ]
  },
  {
   "cell_type": "markdown",
   "metadata": {},
   "source": [
    "## 2. Обработка признаков"
   ]
  },
  {
   "cell_type": "markdown",
   "metadata": {},
   "source": [
    "Для удобства опеределим функции."
   ]
  },
  {
   "cell_type": "code",
   "execution_count": 14,
   "metadata": {},
   "outputs": [],
   "source": [
    "# Основных сведений о признаке\n",
    "def column_info(column):\n",
    "    print('Количество пустых значений в столбце:', (df[column].isnull()).sum(), '\\n')\n",
    "    print('Процент непустых/пустых значений в столбце: \\n', df[column].isnull().value_counts(normalize=True)*100, '\\n')\n",
    "    print('Количество уникальных значений:', df[column].nunique(), '\\n')\n",
    "    print('Количество вхождений каждого значения: \\n', df[column].value_counts(), '\\n')    \n",
    "    return\n",
    "\n",
    "\n",
    "# Определение выбросов\n",
    "def outliers_iqr(s):\n",
    "    q1, q3 = np.percentile(s, [25, 75])\n",
    "    iqr = q3 - q1\n",
    "    lower = q1 - (iqr * 1.5)\n",
    "    upper = q3 + (iqr * 1.5)\n",
    "    return lower, upper, iqr\n",
    "\n",
    "\n",
    "# Визуализация числовых признаков и выбросы\n",
    "def visual_num(data, col, size=6):\n",
    "    fig, (g1, g2) = plt.subplots(1, 2, figsize=(2*size, size))\n",
    "    fig.suptitle(\n",
    "        'Распределение и выбросы для {0} по default'.format(col), fontsize=20)\n",
    "    g1.hist(data[col], bins=20, histtype='bar', align='mid',\n",
    "            rwidth=0.8)\n",
    "    g2.boxplot([data[data.default == 0][col], data[data.default == 1][col]])\n",
    "    plt.figtext(0.5, 0, col, fontsize=16)\n",
    "    plt.xticks([1, 2], [\"0\", \"1\"])\n",
    "    plt.show\n",
    "\n",
    "\n",
    "def outliers(data, col):\n",
    "    l, r, iqr = outliers_iqr(data[col])\n",
    "\n",
    "    out = (data[col] > r).sum() + (data[col] < l).sum()\n",
    "    out_percent = round(out/data[col].count()*100, 1)\n",
    "    print(f'___{col}___')\n",
    "    print(f'IQR: {iqr}, границы выбросов: [{l}, {r}]')\n",
    "    print(f'Всего {out} ({out_percent}%) выбросов')\n",
    "\n",
    "\n",
    "# Таблица метрик для сравнения результатов каждой модели\n",
    "metrics = ['accuracy', 'precision', 'recall', 'f1_train', 'f1_test', 'ROC_AUC']\n",
    "\n",
    "\n",
    "# Добавляем метрики в общую таблицу\n",
    "def summary_metrics(summary, col, y_valid, y_pred, y_pred_probs, y_train, y_pred_train):\n",
    "    values = [accuracy_score(y_valid, y_pred), precision_score(y_valid, y_pred), recall_score(\n",
    "        y_valid, y_pred), f1_score(y_train, y_pred_train), f1_score(y_valid, y_pred), roc_auc_score(y_valid, y_pred_probs)]\n",
    "    summary[col] = values\n",
    "    return summary\n",
    "\n",
    "\n",
    "# Кривая ROC_AUC\n",
    "def roc_auc_curve(y_valid, y_pred_probs):\n",
    "    fpr, tpr, threshold = roc_curve(y_valid, y_pred_probs)\n",
    "    roc_auc = roc_auc_score(y_valid, y_pred_probs)\n",
    "\n",
    "    plt.figure()\n",
    "    plt.plot([0, 1], label='Baseline', linestyle='--')\n",
    "    plt.plot(fpr, tpr, label='Regression')\n",
    "    plt.title('Logistic Regression ROC AUC = %0.3f' % roc_auc)\n",
    "    plt.ylabel('True Positive Rate')\n",
    "    plt.xlabel('False Positive Rate')\n",
    "    plt.legend(loc='lower right')\n",
    "    plt.show()\n",
    "\n",
    "    \n",
    "# Визуализация confusion matrix\n",
    "def conf_mat(y_valid, y_pred):\n",
    "    cm = confusion_matrix(y_valid, y_pred)\n",
    "\n",
    "    sns.set_context(context='paper', font_scale=2, rc=None)\n",
    "    group_names = ['True Neg', 'False Pos', 'False Neg', 'True Pos']\n",
    "    group_counts = ['{0:0.0f}'.format(value) for value in\n",
    "                    cm.flatten()]\n",
    "    labels = [f'{v1}\\n{v2}' for v1, v2 in\n",
    "              zip(group_names, group_counts)]\n",
    "    labels = np.asarray(labels).reshape(2, 2)\n",
    "    sns.heatmap(cm, annot=labels, fmt='', cmap='Blues')\n",
    "    plt.show()"
   ]
  },
  {
   "cell_type": "markdown",
   "metadata": {},
   "source": [
    "Разберемся с единственным признаком, который содержит NaN."
   ]
  },
  {
   "cell_type": "code",
   "execution_count": 15,
   "metadata": {},
   "outputs": [
    {
     "name": "stdout",
     "output_type": "stream",
     "text": [
      "Количество пустых значений в столбце: 478 \n",
      "\n",
      "Процент непустых/пустых значений в столбце: \n",
      " False    99.566038\n",
      "True      0.433962\n",
      "Name: education, dtype: float64 \n",
      "\n",
      "Количество уникальных значений: 5 \n",
      "\n",
      "Количество вхождений каждого значения: \n",
      " SCH    57998\n",
      "GRD    34768\n",
      "UGR    14748\n",
      "PGR     1865\n",
      "ACD      291\n",
      "Name: education, dtype: int64 \n",
      "\n"
     ]
    }
   ],
   "source": [
    "column_info('education')"
   ]
  },
  {
   "cell_type": "code",
   "execution_count": 16,
   "metadata": {},
   "outputs": [
    {
     "data": {
      "text/plain": [
       "<AxesSubplot:>"
      ]
     },
     "execution_count": 16,
     "metadata": {},
     "output_type": "execute_result"
    },
    {
     "data": {
      "image/png": "[encoded data removed]",
      "text/plain": [
       "<Figure size 432x288 with 1 Axes>"
      ]
     },
     "metadata": {
      "needs_background": "light"
     },
     "output_type": "display_data"
    }
   ],
   "source": [
    "df['education'].value_counts().plot.barh()"
   ]
  },
  {
   "cell_type": "code",
   "execution_count": 17,
   "metadata": {},
   "outputs": [],
   "source": [
    "# Учитывая, что пустых значений меньше 1 %, удалим их из датасета.\n",
    "# Можно было вынести информацию о наличии пропуска как отдельный признак и заменить чем-нибудь, но их слишком мало,\n",
    "# чтобы вносить неопределенность\n",
    "df.dropna(inplace=True)"
   ]
  },
  {
   "cell_type": "markdown",
   "metadata": {},
   "source": [
    "Необходимо определиться какие признаки являются числовыми, какие категориальными."
   ]
  },
  {
   "cell_type": "markdown",
   "metadata": {},
   "source": [
    "По шапке датафрейма видно, что age, score_bki и income являются числовыми признаками. Исследуем другие."
   ]
  },
  {
   "cell_type": "code",
   "execution_count": 18,
   "metadata": {},
   "outputs": [
    {
     "name": "stdout",
     "output_type": "stream",
     "text": [
      "Количество пустых значений в столбце: 0 \n",
      "\n",
      "Процент непустых/пустых значений в столбце: \n",
      " False    100.0\n",
      "Name: decline_app_cnt, dtype: float64 \n",
      "\n",
      "Количество уникальных значений: 24 \n",
      "\n",
      "Количество вхождений каждого значения: \n",
      " 0     91033\n",
      "1     12468\n",
      "2      3617\n",
      "3      1362\n",
      "4       606\n",
      "5       255\n",
      "6       156\n",
      "7        58\n",
      "8        37\n",
      "9        29\n",
      "10       16\n",
      "11       10\n",
      "12        5\n",
      "13        4\n",
      "14        3\n",
      "16        3\n",
      "15        1\n",
      "19        1\n",
      "20        1\n",
      "21        1\n",
      "22        1\n",
      "24        1\n",
      "30        1\n",
      "33        1\n",
      "Name: decline_app_cnt, dtype: int64 \n",
      "\n"
     ]
    }
   ],
   "source": [
    "column_info('decline_app_cnt')"
   ]
  },
  {
   "cell_type": "markdown",
   "metadata": {},
   "source": [
    "Этот признак, очевидно, числовой. Смотрим дальше."
   ]
  },
  {
   "cell_type": "code",
   "execution_count": 19,
   "metadata": {},
   "outputs": [
    {
     "name": "stdout",
     "output_type": "stream",
     "text": [
      "Количество пустых значений в столбце: 0 \n",
      "\n",
      "Процент непустых/пустых значений в столбце: \n",
      " False    100.0\n",
      "Name: bki_request_cnt, dtype: float64 \n",
      "\n",
      "Количество уникальных значений: 40 \n",
      "\n",
      "Количество вхождений каждого значения: \n",
      " 0     28757\n",
      "1     27174\n",
      "2     20390\n",
      "3     13622\n",
      "4      8381\n",
      "5      4945\n",
      "6      2492\n",
      "7      1284\n",
      "8       732\n",
      "9       457\n",
      "10      348\n",
      "11      278\n",
      "12      216\n",
      "13      150\n",
      "14      109\n",
      "15       80\n",
      "16       58\n",
      "17       33\n",
      "18       32\n",
      "19       30\n",
      "21       19\n",
      "20       14\n",
      "24       12\n",
      "23       12\n",
      "22        8\n",
      "25        5\n",
      "27        5\n",
      "28        5\n",
      "26        4\n",
      "32        4\n",
      "29        3\n",
      "40        2\n",
      "33        2\n",
      "36        1\n",
      "34        1\n",
      "41        1\n",
      "45        1\n",
      "46        1\n",
      "47        1\n",
      "53        1\n",
      "Name: bki_request_cnt, dtype: int64 \n",
      "\n"
     ]
    }
   ],
   "source": [
    "column_info('bki_request_cnt')"
   ]
  },
  {
   "cell_type": "code",
   "execution_count": 20,
   "metadata": {},
   "outputs": [
    {
     "name": "stdout",
     "output_type": "stream",
     "text": [
      "Количество пустых значений в столбце: 0 \n",
      "\n",
      "Процент непустых/пустых значений в столбце: \n",
      " False    100.0\n",
      "Name: region_rating, dtype: float64 \n",
      "\n",
      "Количество уникальных значений: 7 \n",
      "\n",
      "Количество вхождений каждого значения: \n",
      " 50    40834\n",
      "60    23917\n",
      "40    17877\n",
      "80    17030\n",
      "70     9268\n",
      "30      431\n",
      "20      313\n",
      "Name: region_rating, dtype: int64 \n",
      "\n"
     ]
    }
   ],
   "source": [
    "column_info('region_rating')"
   ]
  },
  {
   "cell_type": "code",
   "execution_count": 21,
   "metadata": {},
   "outputs": [
    {
     "name": "stdout",
     "output_type": "stream",
     "text": [
      "Количество пустых значений в столбце: 0 \n",
      "\n",
      "Процент непустых/пустых значений в столбце: \n",
      " False    100.0\n",
      "Name: sna, dtype: float64 \n",
      "\n",
      "Количество уникальных значений: 4 \n",
      "\n",
      "Количество вхождений каждого значения: \n",
      " 1    70341\n",
      "4    17406\n",
      "2    15785\n",
      "3     6138\n",
      "Name: sna, dtype: int64 \n",
      "\n"
     ]
    }
   ],
   "source": [
    "column_info('sna')"
   ]
  },
  {
   "cell_type": "code",
   "execution_count": 22,
   "metadata": {},
   "outputs": [
    {
     "name": "stdout",
     "output_type": "stream",
     "text": [
      "Количество пустых значений в столбце: 0 \n",
      "\n",
      "Процент непустых/пустых значений в столбце: \n",
      " False    100.0\n",
      "Name: first_time, dtype: float64 \n",
      "\n",
      "Количество уникальных значений: 4 \n",
      "\n",
      "Количество вхождений каждого значения: \n",
      " 3    46415\n",
      "4    27849\n",
      "1    18220\n",
      "2    17186\n",
      "Name: first_time, dtype: int64 \n",
      "\n"
     ]
    }
   ],
   "source": [
    "column_info('first_time')"
   ]
  },
  {
   "cell_type": "markdown",
   "metadata": {},
   "source": [
    "Поскольку не имеется информации о том, что конкретно означает этот признак, будем считать его категориальным. Тогда"
   ]
  },
  {
   "cell_type": "markdown",
   "metadata": {},
   "source": [
    "Обработаем признак app_date."
   ]
  },
  {
   "cell_type": "code",
   "execution_count": 23,
   "metadata": {},
   "outputs": [],
   "source": [
    "# Переведем даты в формат datetime\n",
    "df['app_date'] = pd.to_datetime(df['app_date'])"
   ]
  },
  {
   "cell_type": "code",
   "execution_count": 24,
   "metadata": {},
   "outputs": [],
   "source": [
    "# Вычислим, как давно была подана последняя заявка, т.е. насколько свежа заявка (в днях) и добавим инфо в признак\n",
    "df['app_date_freshness'] = df.app_date.apply(lambda x: (datetime.now() - x).days)"
   ]
  },
  {
   "cell_type": "code",
   "execution_count": 25,
   "metadata": {},
   "outputs": [],
   "source": [
    "df = df.drop('app_date', axis=1)"
   ]
  },
  {
   "cell_type": "markdown",
   "metadata": {},
   "source": [
    "Разделим признаки на группы."
   ]
  },
  {
   "cell_type": "code",
   "execution_count": 26,
   "metadata": {},
   "outputs": [],
   "source": [
    "num_cols = ['age', 'decline_app_cnt', 'score_bki', 'bki_request_cnt', 'income', 'app_date_freshness']\n",
    "bin_cols = ['sex', 'car', 'car_type', 'good_work', 'foreign_passport']\n",
    "cat_cols = ['education', 'home_address', 'work_address', 'sna', 'first_time', 'region_rating']"
   ]
  },
  {
   "cell_type": "markdown",
   "metadata": {},
   "source": [
    "\n",
    "### 2.1. Числовые признаки"
   ]
  },
  {
   "cell_type": "code",
   "execution_count": 27,
   "metadata": {},
   "outputs": [
    {
     "data": {
      "image/png": "[encoded data removed]",
      "text/plain": [
       "<Figure size 864x432 with 2 Axes>"
      ]
     },
     "metadata": {
      "needs_background": "light"
     },
     "output_type": "display_data"
    },
    {
     "data": {
      "image/png": "[encoded data removed]",
      "text/plain": [
       "<Figure size 864x432 with 2 Axes>"
      ]
     },
     "metadata": {
      "needs_background": "light"
     },
     "output_type": "display_data"
    },
    {
     "data": {
      "image/png": "[encoded data removed]",
      "text/plain": [
       "<Figure size 864x432 with 2 Axes>"
      ]
     },
     "metadata": {
      "needs_background": "light"
     },
     "output_type": "display_data"
    },
    {
     "data": {
      "image/png": "[encoded data removed]",
      "text/plain": [
       "<Figure size 864x432 with 2 Axes>"
      ]
     },
     "metadata": {
      "needs_background": "light"
     },
     "output_type": "display_data"
    },
    {
     "data": {
      "image/png": "[encoded data removed]",
      "text/plain": [
       "<Figure size 864x432 with 2 Axes>"
      ]
     },
     "metadata": {
      "needs_background": "light"
     },
     "output_type": "display_data"
    },
    {
     "data": {
      "image/png": "[encoded data removed]",
      "text/plain": [
       "<Figure size 864x432 with 2 Axes>"
      ]
     },
     "metadata": {
      "needs_background": "light"
     },
     "output_type": "display_data"
    }
   ],
   "source": [
    "# Посмотрим на распределение числовых признаков\n",
    "for col in num_cols:\n",
    "    visual_num(df, col)"
   ]
  },
  {
   "cell_type": "code",
   "execution_count": 28,
   "metadata": {},
   "outputs": [
    {
     "name": "stdout",
     "output_type": "stream",
     "text": [
      "___age___\n",
      "IQR: 18.0, границы выбросов: [3.0, 75.0]\n",
      "Всего 0 (0.0%) выбросов\n",
      "___decline_app_cnt___\n",
      "IQR: 0.0, границы выбросов: [0.0, 0.0]\n",
      "Всего 18637 (17.0%) выбросов\n",
      "___score_bki___\n",
      "IQR: 0.6926475674999999, границы выбросов: [-3.2992846612499998, -0.5286943912500002]\n",
      "Всего 515 (0.5%) выбросов\n",
      "___bki_request_cnt___\n",
      "IQR: 3.0, границы выбросов: [-4.5, 7.5]\n",
      "Всего 2625 (2.4%) выбросов\n",
      "___income___\n",
      "IQR: 28000.0, границы выбросов: [-22000.0, 90000.0]\n",
      "Всего 6962 (6.3%) выбросов\n",
      "___app_date_freshness___\n",
      "IQR: 56.0, границы выбросов: [2479.0, 2703.0]\n",
      "Всего 0 (0.0%) выбросов\n"
     ]
    }
   ],
   "source": [
    "# Смотрим на выбросы\n",
    "for col in num_cols:\n",
    "    outliers(df, col)"
   ]
  },
  {
   "cell_type": "markdown",
   "metadata": {},
   "source": [
    "Выбросов в decline_app_cnt много - пока оставим. В score_bki, bki_request_cnt, income - удалим."
   ]
  },
  {
   "cell_type": "code",
   "execution_count": 29,
   "metadata": {},
   "outputs": [],
   "source": [
    "num_cols_outliers = ['score_bki', 'bki_request_cnt', 'income']\n",
    "\n",
    "for col in num_cols_outliers:\n",
    "    d = outliers_iqr(df[col])\n",
    "    df = df.loc[df[col].between(d[0], d[1])]"
   ]
  },
  {
   "cell_type": "markdown",
   "metadata": {},
   "source": [
    "Прологарифмируем признаки, имеющие длинные хвосты."
   ]
  },
  {
   "cell_type": "code",
   "execution_count": 30,
   "metadata": {},
   "outputs": [],
   "source": [
    "num_cols_log = ['age', 'decline_app_cnt', 'bki_request_cnt', 'income']\n",
    "\n",
    "for col in num_cols_log:\n",
    "    df[col] = df[col].apply(lambda x: np.log(x) if x > 0 else x)"
   ]
  },
  {
   "cell_type": "code",
   "execution_count": 31,
   "metadata": {},
   "outputs": [
    {
     "data": {
      "image/png": "[encoded data removed]",
      "text/plain": [
       "<Figure size 864x432 with 2 Axes>"
      ]
     },
     "metadata": {
      "needs_background": "light"
     },
     "output_type": "display_data"
    },
    {
     "data": {
      "image/png": "[encoded data removed]",
      "text/plain": [
       "<Figure size 864x432 with 2 Axes>"
      ]
     },
     "metadata": {
      "needs_background": "light"
     },
     "output_type": "display_data"
    },
    {
     "data": {
      "image/png": "[encoded data removed]",
      "text/plain": [
       "<Figure size 864x432 with 2 Axes>"
      ]
     },
     "metadata": {
      "needs_background": "light"
     },
     "output_type": "display_data"
    },
    {
     "data": {
      "image/png": "[encoded data removed]",
      "text/plain": [
       "<Figure size 864x432 with 2 Axes>"
      ]
     },
     "metadata": {
      "needs_background": "light"
     },
     "output_type": "display_data"
    },
    {
     "data": {
      "image/png": "[encoded data removed]",
      "text/plain": [
       "<Figure size 864x432 with 2 Axes>"
      ]
     },
     "metadata": {
      "needs_background": "light"
     },
     "output_type": "display_data"
    },
    {
     "data": {
      "image/png": "[encoded data removed]",
      "text/plain": [
       "<Figure size 864x432 with 2 Axes>"
      ]
     },
     "metadata": {
      "needs_background": "light"
     },
     "output_type": "display_data"
    }
   ],
   "source": [
    "for col in num_cols:\n",
    "    visual_num(df, col)"
   ]
  },
  {
   "cell_type": "markdown",
   "metadata": {},
   "source": [
    " Логарифмирование делает данные более равномерными."
   ]
  },
  {
   "cell_type": "markdown",
   "metadata": {},
   "source": [
    "### 2.2. Бинарные признаки"
   ]
  },
  {
   "cell_type": "markdown",
   "metadata": {},
   "source": [
    "Для кодирования категориальных признаков есть множество подходов:\n",
    "* Label Encoding\n",
    "* One-Hot Encoding\n",
    "* Target Encoding\n",
    "* Hashing"
   ]
  },
  {
   "cell_type": "code",
   "execution_count": 32,
   "metadata": {},
   "outputs": [
    {
     "data": {
      "text/html": [
       "<div>\n",
       "<style scoped>\n",
       "    .dataframe tbody tr th:only-of-type {\n",
       "        vertical-align: middle;\n",
       "    }\n",
       "\n",
       "    .dataframe tbody tr th {\n",
       "        vertical-align: top;\n",
       "    }\n",
       "\n",
       "    .dataframe thead th {\n",
       "        text-align: right;\n",
       "    }\n",
       "</style>\n",
       "<table border=\"1\" class=\"dataframe\">\n",
       "  <thead>\n",
       "    <tr style=\"text-align: right;\">\n",
       "      <th></th>\n",
       "      <th>client_id</th>\n",
       "      <th>education</th>\n",
       "      <th>sex</th>\n",
       "      <th>age</th>\n",
       "      <th>car</th>\n",
       "      <th>car_type</th>\n",
       "      <th>decline_app_cnt</th>\n",
       "      <th>good_work</th>\n",
       "      <th>score_bki</th>\n",
       "      <th>bki_request_cnt</th>\n",
       "      <th>region_rating</th>\n",
       "      <th>home_address</th>\n",
       "      <th>work_address</th>\n",
       "      <th>income</th>\n",
       "      <th>sna</th>\n",
       "      <th>first_time</th>\n",
       "      <th>foreign_passport</th>\n",
       "      <th>sample</th>\n",
       "      <th>default</th>\n",
       "      <th>app_date_freshness</th>\n",
       "    </tr>\n",
       "  </thead>\n",
       "  <tbody>\n",
       "    <tr>\n",
       "      <th>0</th>\n",
       "      <td>74835</td>\n",
       "      <td>GRD</td>\n",
       "      <td>1</td>\n",
       "      <td>3.367296</td>\n",
       "      <td>1</td>\n",
       "      <td>1</td>\n",
       "      <td>0.000000</td>\n",
       "      <td>0</td>\n",
       "      <td>-2.271884</td>\n",
       "      <td>1.098612</td>\n",
       "      <td>50</td>\n",
       "      <td>1</td>\n",
       "      <td>2</td>\n",
       "      <td>10.819778</td>\n",
       "      <td>1</td>\n",
       "      <td>4</td>\n",
       "      <td>0</td>\n",
       "      <td>0</td>\n",
       "      <td>0</td>\n",
       "      <td>2572</td>\n",
       "    </tr>\n",
       "    <tr>\n",
       "      <th>1</th>\n",
       "      <td>17527</td>\n",
       "      <td>SCH</td>\n",
       "      <td>0</td>\n",
       "      <td>3.663562</td>\n",
       "      <td>0</td>\n",
       "      <td>0</td>\n",
       "      <td>1.609438</td>\n",
       "      <td>0</td>\n",
       "      <td>-1.504999</td>\n",
       "      <td>0.693147</td>\n",
       "      <td>50</td>\n",
       "      <td>1</td>\n",
       "      <td>2</td>\n",
       "      <td>8.517193</td>\n",
       "      <td>4</td>\n",
       "      <td>3</td>\n",
       "      <td>0</td>\n",
       "      <td>0</td>\n",
       "      <td>0</td>\n",
       "      <td>2629</td>\n",
       "    </tr>\n",
       "    <tr>\n",
       "      <th>2</th>\n",
       "      <td>75683</td>\n",
       "      <td>UGR</td>\n",
       "      <td>1</td>\n",
       "      <td>3.912023</td>\n",
       "      <td>1</td>\n",
       "      <td>1</td>\n",
       "      <td>0.000000</td>\n",
       "      <td>0</td>\n",
       "      <td>-1.691339</td>\n",
       "      <td>0.000000</td>\n",
       "      <td>50</td>\n",
       "      <td>1</td>\n",
       "      <td>2</td>\n",
       "      <td>10.308953</td>\n",
       "      <td>1</td>\n",
       "      <td>3</td>\n",
       "      <td>1</td>\n",
       "      <td>0</td>\n",
       "      <td>0</td>\n",
       "      <td>2571</td>\n",
       "    </tr>\n",
       "    <tr>\n",
       "      <th>3</th>\n",
       "      <td>26883</td>\n",
       "      <td>SCH</td>\n",
       "      <td>1</td>\n",
       "      <td>4.025352</td>\n",
       "      <td>0</td>\n",
       "      <td>0</td>\n",
       "      <td>0.000000</td>\n",
       "      <td>0</td>\n",
       "      <td>-2.374182</td>\n",
       "      <td>0.000000</td>\n",
       "      <td>40</td>\n",
       "      <td>1</td>\n",
       "      <td>2</td>\n",
       "      <td>9.740969</td>\n",
       "      <td>1</td>\n",
       "      <td>3</td>\n",
       "      <td>0</td>\n",
       "      <td>0</td>\n",
       "      <td>0</td>\n",
       "      <td>2619</td>\n",
       "    </tr>\n",
       "    <tr>\n",
       "      <th>5</th>\n",
       "      <td>99881</td>\n",
       "      <td>SCH</td>\n",
       "      <td>0</td>\n",
       "      <td>4.007333</td>\n",
       "      <td>0</td>\n",
       "      <td>0</td>\n",
       "      <td>0.000000</td>\n",
       "      <td>0</td>\n",
       "      <td>-1.740224</td>\n",
       "      <td>1.945910</td>\n",
       "      <td>50</td>\n",
       "      <td>3</td>\n",
       "      <td>3</td>\n",
       "      <td>10.308953</td>\n",
       "      <td>2</td>\n",
       "      <td>1</td>\n",
       "      <td>0</td>\n",
       "      <td>0</td>\n",
       "      <td>0</td>\n",
       "      <td>2546</td>\n",
       "    </tr>\n",
       "  </tbody>\n",
       "</table>\n",
       "</div>"
      ],
      "text/plain": [
       "   client_id education  sex       age  car  car_type  decline_app_cnt  \\\n",
       "0      74835       GRD    1  3.367296    1         1         0.000000   \n",
       "1      17527       SCH    0  3.663562    0         0         1.609438   \n",
       "2      75683       UGR    1  3.912023    1         1         0.000000   \n",
       "3      26883       SCH    1  4.025352    0         0         0.000000   \n",
       "5      99881       SCH    0  4.007333    0         0         0.000000   \n",
       "\n",
       "   good_work  score_bki  bki_request_cnt  region_rating  home_address  \\\n",
       "0          0  -2.271884         1.098612             50             1   \n",
       "1          0  -1.504999         0.693147             50             1   \n",
       "2          0  -1.691339         0.000000             50             1   \n",
       "3          0  -2.374182         0.000000             40             1   \n",
       "5          0  -1.740224         1.945910             50             3   \n",
       "\n",
       "   work_address     income  sna  first_time  foreign_passport  sample  \\\n",
       "0             2  10.819778    1           4                 0       0   \n",
       "1             2   8.517193    4           3                 0       0   \n",
       "2             2  10.308953    1           3                 1       0   \n",
       "3             2   9.740969    1           3                 0       0   \n",
       "5             3  10.308953    2           1                 0       0   \n",
       "\n",
       "   default  app_date_freshness  \n",
       "0        0                2572  \n",
       "1        0                2629  \n",
       "2        0                2571  \n",
       "3        0                2619  \n",
       "5        0                2546  "
      ]
     },
     "execution_count": 32,
     "metadata": {},
     "output_type": "execute_result"
    }
   ],
   "source": [
    "# Для бинарных признаков будем использовать LabelEncoder\n",
    "label_encoder = LabelEncoder()\n",
    "\n",
    "for col in bin_cols:\n",
    "    df[col] = label_encoder.fit_transform(df[col])\n",
    "    \n",
    "# Убедимся в преобразовании    \n",
    "df.head()"
   ]
  },
  {
   "cell_type": "markdown",
   "metadata": {},
   "source": [
    "### 2.3. Категориальные признаки"
   ]
  },
  {
   "cell_type": "markdown",
   "metadata": {},
   "source": [
    "Для кодирования категориальных признаков можно воспользоваться One-Hot Encoding transformation. Но для сокращения действий применим get_dummies. "
   ]
  },
  {
   "cell_type": "code",
   "execution_count": 33,
   "metadata": {},
   "outputs": [],
   "source": [
    "df = pd.get_dummies(df, columns=cat_cols)"
   ]
  },
  {
   "cell_type": "code",
   "execution_count": 34,
   "metadata": {},
   "outputs": [
    {
     "data": {
      "text/plain": [
       "['education_ACD',\n",
       " 'education_GRD',\n",
       " 'education_PGR',\n",
       " 'education_SCH',\n",
       " 'education_UGR',\n",
       " 'home_address_1',\n",
       " 'home_address_2',\n",
       " 'home_address_3',\n",
       " 'work_address_1',\n",
       " 'work_address_2',\n",
       " 'work_address_3',\n",
       " 'sna_1',\n",
       " 'sna_2',\n",
       " 'sna_3',\n",
       " 'sna_4',\n",
       " 'first_time_1',\n",
       " 'first_time_2',\n",
       " 'first_time_3',\n",
       " 'first_time_4',\n",
       " 'region_rating_20',\n",
       " 'region_rating_30',\n",
       " 'region_rating_40',\n",
       " 'region_rating_50',\n",
       " 'region_rating_60',\n",
       " 'region_rating_70',\n",
       " 'region_rating_80']"
      ]
     },
     "execution_count": 34,
     "metadata": {},
     "output_type": "execute_result"
    }
   ],
   "source": [
    "# Новый список категориальных признаков\n",
    "cat_cols_dummies = [c1 for c in cat_cols for c1 in df.columns if c1.startswith(c)]\n",
    "cat_cols_dummies"
   ]
  },
  {
   "cell_type": "markdown",
   "metadata": {},
   "source": [
    "### 2.4. Целевая переменная"
   ]
  },
  {
   "cell_type": "code",
   "execution_count": 35,
   "metadata": {},
   "outputs": [
    {
     "data": {
      "text/plain": [
       "0    0.914642\n",
       "1    0.085358\n",
       "Name: default, dtype: float64"
      ]
     },
     "execution_count": 35,
     "metadata": {},
     "output_type": "execute_result"
    }
   ],
   "source": [
    "df['default'].value_counts(normalize=True, dropna=False)"
   ]
  },
  {
   "cell_type": "markdown",
   "metadata": {},
   "source": [
    "Видно, что недефолтных клиентов значительно больше - распределение неравномерное. Применим метод oversamping - кратно увеличим default-ных копированием."
   ]
  },
  {
   "cell_type": "code",
   "execution_count": 36,
   "metadata": {},
   "outputs": [],
   "source": [
    "coeff = int(df[df.default == 0].default.shape[0]/df[df.default == 1].default.shape[0])"
   ]
  },
  {
   "cell_type": "code",
   "execution_count": 37,
   "metadata": {},
   "outputs": [],
   "source": [
    "df1 = df[df.default == 1]\n",
    "for _ in range(coeff):\n",
    "    df = df.append(df1).reset_index(drop=True)"
   ]
  },
  {
   "cell_type": "code",
   "execution_count": 38,
   "metadata": {},
   "outputs": [
    {
     "data": {
      "text/plain": [
       "1    0.506554\n",
       "0    0.493446\n",
       "Name: default, dtype: float64"
      ]
     },
     "execution_count": 38,
     "metadata": {},
     "output_type": "execute_result"
    }
   ],
   "source": [
    "# Проверка\n",
    "df['default'].value_counts(normalize=True, dropna=False)"
   ]
  },
  {
   "cell_type": "markdown",
   "metadata": {},
   "source": [
    "## 3. Анализ чувствительности и зависимости\n"
   ]
  },
  {
   "cell_type": "markdown",
   "metadata": {},
   "source": [
    "### 3.1. Оценка важности признаков"
   ]
  },
  {
   "cell_type": "code",
   "execution_count": 39,
   "metadata": {},
   "outputs": [
    {
     "data": {
      "text/plain": [
       "<AxesSubplot:>"
      ]
     },
     "execution_count": 39,
     "metadata": {},
     "output_type": "execute_result"
    },
    {
     "data": {
      "image/png": "[encoded data removed]",
      "text/plain": [
       "<Figure size 432x288 with 1 Axes>"
      ]
     },
     "metadata": {
      "needs_background": "light"
     },
     "output_type": "display_data"
    }
   ],
   "source": [
    "# Числовые признаки\n",
    "imp_num = Series(f_classif(df[num_cols], df['default'])[0], index=num_cols)\n",
    "imp_num.sort_values(inplace=True)\n",
    "imp_num.plot(kind='barh')"
   ]
  },
  {
   "cell_type": "code",
   "execution_count": 40,
   "metadata": {},
   "outputs": [
    {
     "data": {
      "text/plain": [
       "<AxesSubplot:>"
      ]
     },
     "execution_count": 40,
     "metadata": {},
     "output_type": "execute_result"
    },
    {
     "data": {
      "image/png": "[encoded data removed]",
      "text/plain": [
       "<Figure size 432x288 with 1 Axes>"
      ]
     },
     "metadata": {
      "needs_background": "light"
     },
     "output_type": "display_data"
    }
   ],
   "source": [
    "# Бинарные признаки\n",
    "imp_cat = Series(mutual_info_classif(df[bin_cols], df['default'],\n",
    "                                     discrete_features=True), index=bin_cols)\n",
    "imp_cat.sort_values(inplace = True)\n",
    "imp_cat.plot(kind='barh')"
   ]
  },
  {
   "cell_type": "code",
   "execution_count": 41,
   "metadata": {},
   "outputs": [
    {
     "data": {
      "text/plain": [
       "<AxesSubplot:>"
      ]
     },
     "execution_count": 41,
     "metadata": {},
     "output_type": "execute_result"
    },
    {
     "data": {
      "image/png": "[encoded data removed]",
      "text/plain": [
       "<Figure size 432x288 with 1 Axes>"
      ]
     },
     "metadata": {
      "needs_background": "light"
     },
     "output_type": "display_data"
    }
   ],
   "source": [
    "# Категориальные признаки\n",
    "imp_cat = Series(mutual_info_classif(df[cat_cols_dummies], df['default'],\n",
    "                                     discrete_features=True), index=cat_cols_dummies)\n",
    "imp_cat.sort_values(inplace = True)\n",
    "imp_cat.plot(kind='barh')"
   ]
  },
  {
   "cell_type": "markdown",
   "metadata": {},
   "source": [
    "### 3.2. Корреляционный анализ"
   ]
  },
  {
   "cell_type": "code",
   "execution_count": 42,
   "metadata": {
    "scrolled": true
   },
   "outputs": [
    {
     "data": {
      "text/html": [
       "<div>\n",
       "<style scoped>\n",
       "    .dataframe tbody tr th:only-of-type {\n",
       "        vertical-align: middle;\n",
       "    }\n",
       "\n",
       "    .dataframe tbody tr th {\n",
       "        vertical-align: top;\n",
       "    }\n",
       "\n",
       "    .dataframe thead th {\n",
       "        text-align: right;\n",
       "    }\n",
       "</style>\n",
       "<table border=\"1\" class=\"dataframe\">\n",
       "  <thead>\n",
       "    <tr style=\"text-align: right;\">\n",
       "      <th></th>\n",
       "      <th>age</th>\n",
       "      <th>decline_app_cnt</th>\n",
       "      <th>score_bki</th>\n",
       "      <th>bki_request_cnt</th>\n",
       "      <th>income</th>\n",
       "      <th>app_date_freshness</th>\n",
       "    </tr>\n",
       "  </thead>\n",
       "  <tbody>\n",
       "    <tr>\n",
       "      <th>age</th>\n",
       "      <td>1.000000</td>\n",
       "      <td>0.123063</td>\n",
       "      <td>0.107624</td>\n",
       "      <td>0.053037</td>\n",
       "      <td>0.155314</td>\n",
       "      <td>0.023127</td>\n",
       "    </tr>\n",
       "    <tr>\n",
       "      <th>decline_app_cnt</th>\n",
       "      <td>0.123063</td>\n",
       "      <td>1.000000</td>\n",
       "      <td>0.157337</td>\n",
       "      <td>0.060322</td>\n",
       "      <td>0.001816</td>\n",
       "      <td>0.014613</td>\n",
       "    </tr>\n",
       "    <tr>\n",
       "      <th>score_bki</th>\n",
       "      <td>0.107624</td>\n",
       "      <td>0.157337</td>\n",
       "      <td>1.000000</td>\n",
       "      <td>0.110195</td>\n",
       "      <td>0.000718</td>\n",
       "      <td>0.056008</td>\n",
       "    </tr>\n",
       "    <tr>\n",
       "      <th>bki_request_cnt</th>\n",
       "      <td>0.053037</td>\n",
       "      <td>0.060322</td>\n",
       "      <td>0.110195</td>\n",
       "      <td>1.000000</td>\n",
       "      <td>0.066533</td>\n",
       "      <td>0.005980</td>\n",
       "    </tr>\n",
       "    <tr>\n",
       "      <th>income</th>\n",
       "      <td>0.155314</td>\n",
       "      <td>0.001816</td>\n",
       "      <td>0.000718</td>\n",
       "      <td>0.066533</td>\n",
       "      <td>1.000000</td>\n",
       "      <td>0.005617</td>\n",
       "    </tr>\n",
       "    <tr>\n",
       "      <th>app_date_freshness</th>\n",
       "      <td>0.023127</td>\n",
       "      <td>0.014613</td>\n",
       "      <td>0.056008</td>\n",
       "      <td>0.005980</td>\n",
       "      <td>0.005617</td>\n",
       "      <td>1.000000</td>\n",
       "    </tr>\n",
       "  </tbody>\n",
       "</table>\n",
       "</div>"
      ],
      "text/plain": [
       "                         age  decline_app_cnt  score_bki  bki_request_cnt  \\\n",
       "age                 1.000000         0.123063   0.107624         0.053037   \n",
       "decline_app_cnt     0.123063         1.000000   0.157337         0.060322   \n",
       "score_bki           0.107624         0.157337   1.000000         0.110195   \n",
       "bki_request_cnt     0.053037         0.060322   0.110195         1.000000   \n",
       "income              0.155314         0.001816   0.000718         0.066533   \n",
       "app_date_freshness  0.023127         0.014613   0.056008         0.005980   \n",
       "\n",
       "                      income  app_date_freshness  \n",
       "age                 0.155314            0.023127  \n",
       "decline_app_cnt     0.001816            0.014613  \n",
       "score_bki           0.000718            0.056008  \n",
       "bki_request_cnt     0.066533            0.005980  \n",
       "income              1.000000            0.005617  \n",
       "app_date_freshness  0.005617            1.000000  "
      ]
     },
     "execution_count": 42,
     "metadata": {},
     "output_type": "execute_result"
    },
    {
     "data": {
      "image/png": "[encoded data removed]",
      "text/plain": [
       "<Figure size 432x288 with 2 Axes>"
      ]
     },
     "metadata": {
      "needs_background": "light"
     },
     "output_type": "display_data"
    }
   ],
   "source": [
    "# Посчитаем матрицу корреляции числовых признаков\n",
    "sns.heatmap(df[num_cols].corr().abs(), vmin=0, vmax=1)\n",
    "df[num_cols].corr().abs()"
   ]
  },
  {
   "cell_type": "markdown",
   "metadata": {},
   "source": [
    "Судя по полученным коэффициентам корреляции между рассматриваемыми признаками нет сильной линейной зависимости."
   ]
  },
  {
   "cell_type": "markdown",
   "metadata": {},
   "source": [
    "## 4. Подготовка данных к обучению"
   ]
  },
  {
   "cell_type": "code",
   "execution_count": 43,
   "metadata": {},
   "outputs": [],
   "source": [
    "# Сгенерируем полиномиальные признаки из числовых\n",
    "poly = PolynomialFeatures(2)\n",
    "X_num_poly = poly.fit_transform(df[num_cols].values)\n",
    "num_cols_poly = poly.get_feature_names(df[num_cols].columns)"
   ]
  },
  {
   "cell_type": "markdown",
   "metadata": {},
   "source": [
    "Логарифм является частным случаем нормализации - он убирает хвосты.\n",
    "В дополнение применим масштабирование или стандартизацию."
   ]
  },
  {
   "cell_type": "code",
   "execution_count": 44,
   "metadata": {},
   "outputs": [],
   "source": [
    "X_num = StandardScaler().fit_transform(X_num_poly)"
   ]
  },
  {
   "cell_type": "code",
   "execution_count": 45,
   "metadata": {},
   "outputs": [],
   "source": [
    "df = df.drop(num_cols, axis=1)"
   ]
  },
  {
   "cell_type": "code",
   "execution_count": 46,
   "metadata": {},
   "outputs": [],
   "source": [
    "# Запишем новые данные в датафрейм\n",
    "df_final = pd.concat([df, pd.DataFrame(X_num, columns=num_cols_poly)], axis=1)"
   ]
  },
  {
   "cell_type": "code",
   "execution_count": 47,
   "metadata": {},
   "outputs": [
    {
     "name": "stdout",
     "output_type": "stream",
     "text": [
      "<class 'pandas.core.frame.DataFrame'>\n",
      "RangeIndex: 184016 entries, 0 to 184015\n",
      "Data columns (total 62 columns):\n",
      " #   Column                              Non-Null Count   Dtype  \n",
      "---  ------                              --------------   -----  \n",
      " 0   client_id                           184016 non-null  int64  \n",
      " 1   sex                                 184016 non-null  int32  \n",
      " 2   car                                 184016 non-null  int32  \n",
      " 3   car_type                            184016 non-null  int32  \n",
      " 4   good_work                           184016 non-null  int64  \n",
      " 5   foreign_passport                    184016 non-null  int32  \n",
      " 6   sample                              184016 non-null  int64  \n",
      " 7   default                             184016 non-null  int64  \n",
      " 8   education_ACD                       184016 non-null  uint8  \n",
      " 9   education_GRD                       184016 non-null  uint8  \n",
      " 10  education_PGR                       184016 non-null  uint8  \n",
      " 11  education_SCH                       184016 non-null  uint8  \n",
      " 12  education_UGR                       184016 non-null  uint8  \n",
      " 13  home_address_1                      184016 non-null  uint8  \n",
      " 14  home_address_2                      184016 non-null  uint8  \n",
      " 15  home_address_3                      184016 non-null  uint8  \n",
      " 16  work_address_1                      184016 non-null  uint8  \n",
      " 17  work_address_2                      184016 non-null  uint8  \n",
      " 18  work_address_3                      184016 non-null  uint8  \n",
      " 19  sna_1                               184016 non-null  uint8  \n",
      " 20  sna_2                               184016 non-null  uint8  \n",
      " 21  sna_3                               184016 non-null  uint8  \n",
      " 22  sna_4                               184016 non-null  uint8  \n",
      " 23  first_time_1                        184016 non-null  uint8  \n",
      " 24  first_time_2                        184016 non-null  uint8  \n",
      " 25  first_time_3                        184016 non-null  uint8  \n",
      " 26  first_time_4                        184016 non-null  uint8  \n",
      " 27  region_rating_20                    184016 non-null  uint8  \n",
      " 28  region_rating_30                    184016 non-null  uint8  \n",
      " 29  region_rating_40                    184016 non-null  uint8  \n",
      " 30  region_rating_50                    184016 non-null  uint8  \n",
      " 31  region_rating_60                    184016 non-null  uint8  \n",
      " 32  region_rating_70                    184016 non-null  uint8  \n",
      " 33  region_rating_80                    184016 non-null  uint8  \n",
      " 34  1                                   184016 non-null  float64\n",
      " 35  age                                 184016 non-null  float64\n",
      " 36  decline_app_cnt                     184016 non-null  float64\n",
      " 37  score_bki                           184016 non-null  float64\n",
      " 38  bki_request_cnt                     184016 non-null  float64\n",
      " 39  income                              184016 non-null  float64\n",
      " 40  app_date_freshness                  184016 non-null  float64\n",
      " 41  age^2                               184016 non-null  float64\n",
      " 42  age decline_app_cnt                 184016 non-null  float64\n",
      " 43  age score_bki                       184016 non-null  float64\n",
      " 44  age bki_request_cnt                 184016 non-null  float64\n",
      " 45  age income                          184016 non-null  float64\n",
      " 46  age app_date_freshness              184016 non-null  float64\n",
      " 47  decline_app_cnt^2                   184016 non-null  float64\n",
      " 48  decline_app_cnt score_bki           184016 non-null  float64\n",
      " 49  decline_app_cnt bki_request_cnt     184016 non-null  float64\n",
      " 50  decline_app_cnt income              184016 non-null  float64\n",
      " 51  decline_app_cnt app_date_freshness  184016 non-null  float64\n",
      " 52  score_bki^2                         184016 non-null  float64\n",
      " 53  score_bki bki_request_cnt           184016 non-null  float64\n",
      " 54  score_bki income                    184016 non-null  float64\n",
      " 55  score_bki app_date_freshness        184016 non-null  float64\n",
      " 56  bki_request_cnt^2                   184016 non-null  float64\n",
      " 57  bki_request_cnt income              184016 non-null  float64\n",
      " 58  bki_request_cnt app_date_freshness  184016 non-null  float64\n",
      " 59  income^2                            184016 non-null  float64\n",
      " 60  income app_date_freshness           184016 non-null  float64\n",
      " 61  app_date_freshness^2                184016 non-null  float64\n",
      "dtypes: float64(28), int32(4), int64(4), uint8(26)\n",
      "memory usage: 52.3 MB\n"
     ]
    }
   ],
   "source": [
    "# Обработанный датасет\n",
    "df_final.info()"
   ]
  },
  {
   "cell_type": "code",
   "execution_count": 48,
   "metadata": {},
   "outputs": [],
   "source": [
    "# Теперь выделим тестовую часть kaggle\n",
    "train_data = df_final.query('sample == 1').drop(['sample'], axis=1)\n",
    "test_data = df_final.query('sample == 0').drop(['sample'], axis=1)"
   ]
  },
  {
   "cell_type": "code",
   "execution_count": 49,
   "metadata": {},
   "outputs": [],
   "source": [
    "# Удалим признак, которые не участвует в обучении модели и сохраним его в отдельный список\n",
    "client_id_list = list(test_data['client_id'])\n",
    "train_data = train_data.drop('client_id', axis=1)\n",
    "test_data = test_data.drop('client_id', axis=1)"
   ]
  },
  {
   "cell_type": "code",
   "execution_count": 50,
   "metadata": {},
   "outputs": [],
   "source": [
    "# Делим на входы/выходы обучающую выборку\n",
    "y = train_data['default'].values            \n",
    "X = train_data.drop(['default'], axis=1)"
   ]
  },
  {
   "cell_type": "code",
   "execution_count": 51,
   "metadata": {},
   "outputs": [],
   "source": [
    "# Удаляем из тестовых данных kaggle целевую переменную\n",
    "test_data = test_data.drop(['default'], axis=1)"
   ]
  },
  {
   "cell_type": "markdown",
   "metadata": {},
   "source": [
    "Перед тем как отправлять наши данные на обучение, разделим данные на еще один тест и трейн, для валидации. \n",
    "Это поможет нам проверить, как хорошо наша модель работает, до отправки submissiona на kaggle."
   ]
  },
  {
   "cell_type": "code",
   "execution_count": 52,
   "metadata": {},
   "outputs": [],
   "source": [
    "# Воспользуемся функцией train_test_split - выделим 20% данных на валидацию\n",
    "X_train, X_test, y_train, y_test = train_test_split(X, y, test_size=0.2, random_state=RANDOM_SEED, shuffle=True)"
   ]
  },
  {
   "cell_type": "code",
   "execution_count": 53,
   "metadata": {},
   "outputs": [],
   "source": [
    "# База с метриками\n",
    "summary = pd.DataFrame(index=metrics)"
   ]
  },
  {
   "cell_type": "markdown",
   "metadata": {},
   "source": [
    "## 5. Обучение модели"
   ]
  },
  {
   "cell_type": "code",
   "execution_count": 54,
   "metadata": {},
   "outputs": [],
   "source": [
    "# Создаём модель \n",
    "model = LogisticRegression(random_state=RANDOM_SEED, max_iter = 1000)"
   ]
  },
  {
   "cell_type": "code",
   "execution_count": 55,
   "metadata": {},
   "outputs": [
    {
     "data": {
      "text/plain": [
       "LogisticRegression(max_iter=1000, random_state=42)"
      ]
     },
     "execution_count": 55,
     "metadata": {},
     "output_type": "execute_result"
    }
   ],
   "source": [
    "# Обучаем модель\n",
    "model.fit(X_train, y_train)"
   ]
  },
  {
   "cell_type": "code",
   "execution_count": 56,
   "metadata": {},
   "outputs": [],
   "source": [
    "# Используем обученную модель для предсказания\n",
    "probs = model.predict_proba(X_test)\n",
    "y_pred_probs = probs[:,1]\n",
    "y_pred = model.predict(X_test)\n",
    "y_pred_train = model.predict(X_train)"
   ]
  },
  {
   "cell_type": "code",
   "execution_count": 57,
   "metadata": {},
   "outputs": [
    {
     "data": {
      "image/png": "[encoded data removed]",
      "text/plain": [
       "<Figure size 432x288 with 1 Axes>"
      ]
     },
     "metadata": {
      "needs_background": "light"
     },
     "output_type": "display_data"
    }
   ],
   "source": [
    "roc_auc_curve(y_test, y_pred_probs)"
   ]
  },
  {
   "cell_type": "code",
   "execution_count": 58,
   "metadata": {},
   "outputs": [
    {
     "data": {
      "text/html": [
       "<div>\n",
       "<style scoped>\n",
       "    .dataframe tbody tr th:only-of-type {\n",
       "        vertical-align: middle;\n",
       "    }\n",
       "\n",
       "    .dataframe tbody tr th {\n",
       "        vertical-align: top;\n",
       "    }\n",
       "\n",
       "    .dataframe thead th {\n",
       "        text-align: right;\n",
       "    }\n",
       "</style>\n",
       "<table border=\"1\" class=\"dataframe\">\n",
       "  <thead>\n",
       "    <tr style=\"text-align: right;\">\n",
       "      <th></th>\n",
       "      <th>model_1</th>\n",
       "    </tr>\n",
       "  </thead>\n",
       "  <tbody>\n",
       "    <tr>\n",
       "      <th>accuracy</th>\n",
       "      <td>0.692692</td>\n",
       "    </tr>\n",
       "    <tr>\n",
       "      <th>precision</th>\n",
       "      <td>0.712983</td>\n",
       "    </tr>\n",
       "    <tr>\n",
       "      <th>recall</th>\n",
       "      <td>0.841066</td>\n",
       "    </tr>\n",
       "    <tr>\n",
       "      <th>f1_train</th>\n",
       "      <td>0.771350</td>\n",
       "    </tr>\n",
       "    <tr>\n",
       "      <th>f1_test</th>\n",
       "      <td>0.771746</td>\n",
       "    </tr>\n",
       "    <tr>\n",
       "      <th>ROC_AUC</th>\n",
       "      <td>0.729714</td>\n",
       "    </tr>\n",
       "  </tbody>\n",
       "</table>\n",
       "</div>"
      ],
      "text/plain": [
       "            model_1\n",
       "accuracy   0.692692\n",
       "precision  0.712983\n",
       "recall     0.841066\n",
       "f1_train   0.771350\n",
       "f1_test    0.771746\n",
       "ROC_AUC    0.729714"
      ]
     },
     "execution_count": 58,
     "metadata": {},
     "output_type": "execute_result"
    }
   ],
   "source": [
    "summary_metrics(summary, 'model_1', y_test, y_pred, y_pred_probs, y_train, y_pred_train)"
   ]
  },
  {
   "cell_type": "code",
   "execution_count": 59,
   "metadata": {},
   "outputs": [
    {
     "data": {
      "image/png": "[encoded data removed]",
      "text/plain": [
       "<Figure size 432x288 with 2 Axes>"
      ]
     },
     "metadata": {
      "needs_background": "light"
     },
     "output_type": "display_data"
    }
   ],
   "source": [
    "conf_mat(y_test, y_pred)"
   ]
  },
  {
   "cell_type": "markdown",
   "metadata": {},
   "source": [
    "Подбор гиперпарметров (регуляризация)."
   ]
  },
  {
   "cell_type": "code",
   "execution_count": 60,
   "metadata": {},
   "outputs": [
    {
     "name": "stdout",
     "output_type": "stream",
     "text": [
      "Лучшее Penalty: l2\n",
      "Лучшее C: 1291.5496650148827\n"
     ]
    }
   ],
   "source": [
    "# Зададим ограничения для параметра регуляризации\n",
    "C = np.logspace(0, 4, 10)\n",
    "\n",
    "# Создадим гиперпараметры\n",
    "penalty = ['l1', 'l2']\n",
    "hyperparameters = dict(C=C, penalty=penalty)\n",
    "\n",
    "# Создаем сетку поиска с использованием 5-кратной перекрестной проверки\n",
    "clf = GridSearchCV(model, hyperparameters, cv=5, verbose=0)\n",
    "\n",
    "best_model = clf.fit(X_train, y_train)\n",
    "\n",
    "print('Лучшее Penalty:', best_model.best_estimator_.get_params()['penalty'])\n",
    "print('Лучшее C:', best_model.best_estimator_.get_params()['C'])"
   ]
  },
  {
   "cell_type": "markdown",
   "metadata": {},
   "source": [
    "Применяем найденные гиперпараметры."
   ]
  },
  {
   "cell_type": "code",
   "execution_count": 61,
   "metadata": {},
   "outputs": [
    {
     "data": {
      "text/plain": [
       "LogisticRegression(C=1291.5496650148827, max_iter=1000, random_state=42)"
      ]
     },
     "execution_count": 61,
     "metadata": {},
     "output_type": "execute_result"
    }
   ],
   "source": [
    "model = LogisticRegression(random_state=RANDOM_SEED, penalty=best_model.best_estimator_.get_params()['penalty'],\n",
    "    C=best_model.best_estimator_.get_params()['C'],\n",
    "    max_iter=1000)\n",
    "model.fit(X_train, y_train)"
   ]
  },
  {
   "cell_type": "code",
   "execution_count": 62,
   "metadata": {},
   "outputs": [],
   "source": [
    "probs = model.predict_proba(X_test)\n",
    "y_pred_probs = probs[:,1]\n",
    "y_pred = model.predict(X_test)\n",
    "y_pred_train = model.predict(X_train)"
   ]
  },
  {
   "cell_type": "code",
   "execution_count": 63,
   "metadata": {},
   "outputs": [
    {
     "data": {
      "image/png": "[encoded data removed]",
      "text/plain": [
       "<Figure size 432x288 with 1 Axes>"
      ]
     },
     "metadata": {
      "needs_background": "light"
     },
     "output_type": "display_data"
    }
   ],
   "source": [
    "roc_auc_curve(y_test, y_pred_probs)"
   ]
  },
  {
   "cell_type": "code",
   "execution_count": 64,
   "metadata": {},
   "outputs": [
    {
     "data": {
      "text/html": [
       "<div>\n",
       "<style scoped>\n",
       "    .dataframe tbody tr th:only-of-type {\n",
       "        vertical-align: middle;\n",
       "    }\n",
       "\n",
       "    .dataframe tbody tr th {\n",
       "        vertical-align: top;\n",
       "    }\n",
       "\n",
       "    .dataframe thead th {\n",
       "        text-align: right;\n",
       "    }\n",
       "</style>\n",
       "<table border=\"1\" class=\"dataframe\">\n",
       "  <thead>\n",
       "    <tr style=\"text-align: right;\">\n",
       "      <th></th>\n",
       "      <th>model_1</th>\n",
       "      <th>model_2</th>\n",
       "    </tr>\n",
       "  </thead>\n",
       "  <tbody>\n",
       "    <tr>\n",
       "      <th>accuracy</th>\n",
       "      <td>0.692692</td>\n",
       "      <td>0.693154</td>\n",
       "    </tr>\n",
       "    <tr>\n",
       "      <th>precision</th>\n",
       "      <td>0.712983</td>\n",
       "      <td>0.712914</td>\n",
       "    </tr>\n",
       "    <tr>\n",
       "      <th>recall</th>\n",
       "      <td>0.841066</td>\n",
       "      <td>0.842511</td>\n",
       "    </tr>\n",
       "    <tr>\n",
       "      <th>f1_train</th>\n",
       "      <td>0.771350</td>\n",
       "      <td>0.771760</td>\n",
       "    </tr>\n",
       "    <tr>\n",
       "      <th>f1_test</th>\n",
       "      <td>0.771746</td>\n",
       "      <td>0.772314</td>\n",
       "    </tr>\n",
       "    <tr>\n",
       "      <th>ROC_AUC</th>\n",
       "      <td>0.729714</td>\n",
       "      <td>0.730190</td>\n",
       "    </tr>\n",
       "  </tbody>\n",
       "</table>\n",
       "</div>"
      ],
      "text/plain": [
       "            model_1   model_2\n",
       "accuracy   0.692692  0.693154\n",
       "precision  0.712983  0.712914\n",
       "recall     0.841066  0.842511\n",
       "f1_train   0.771350  0.771760\n",
       "f1_test    0.771746  0.772314\n",
       "ROC_AUC    0.729714  0.730190"
      ]
     },
     "execution_count": 64,
     "metadata": {},
     "output_type": "execute_result"
    }
   ],
   "source": [
    "summary_metrics(summary, 'model_2', y_test, y_pred, y_pred_probs, y_train, y_pred_train)"
   ]
  },
  {
   "cell_type": "code",
   "execution_count": 65,
   "metadata": {},
   "outputs": [
    {
     "data": {
      "image/png": "[encoded data removed]",
      "text/plain": [
       "<Figure size 432x288 with 2 Axes>"
      ]
     },
     "metadata": {
      "needs_background": "light"
     },
     "output_type": "display_data"
    }
   ],
   "source": [
    "conf_mat(y_test, y_pred)"
   ]
  },
  {
   "cell_type": "markdown",
   "metadata": {},
   "source": [
    "## 6. Submission\n"
   ]
  },
  {
   "cell_type": "markdown",
   "metadata": {},
   "source": [
    "Делаем предсказания модели на тестовых данных kaggle."
   ]
  },
  {
   "cell_type": "code",
   "execution_count": 69,
   "metadata": {},
   "outputs": [],
   "source": [
    "probs = model.predict_proba(test_data)\n",
    "y_pred_probs = probs[:, 1]"
   ]
  },
  {
   "cell_type": "code",
   "execution_count": 67,
   "metadata": {},
   "outputs": [
    {
     "data": {
      "text/html": [
       "<div>\n",
       "<style scoped>\n",
       "    .dataframe tbody tr th:only-of-type {\n",
       "        vertical-align: middle;\n",
       "    }\n",
       "\n",
       "    .dataframe tbody tr th {\n",
       "        vertical-align: top;\n",
       "    }\n",
       "\n",
       "    .dataframe thead th {\n",
       "        text-align: right;\n",
       "    }\n",
       "</style>\n",
       "<table border=\"1\" class=\"dataframe\">\n",
       "  <thead>\n",
       "    <tr style=\"text-align: right;\">\n",
       "      <th></th>\n",
       "      <th>client_id</th>\n",
       "      <th>default</th>\n",
       "    </tr>\n",
       "  </thead>\n",
       "  <tbody>\n",
       "    <tr>\n",
       "      <th>0</th>\n",
       "      <td>74835</td>\n",
       "      <td>0.302802</td>\n",
       "    </tr>\n",
       "    <tr>\n",
       "      <th>1</th>\n",
       "      <td>17527</td>\n",
       "      <td>0.869625</td>\n",
       "    </tr>\n",
       "    <tr>\n",
       "      <th>2</th>\n",
       "      <td>75683</td>\n",
       "      <td>0.430835</td>\n",
       "    </tr>\n",
       "    <tr>\n",
       "      <th>3</th>\n",
       "      <td>26883</td>\n",
       "      <td>0.513315</td>\n",
       "    </tr>\n",
       "    <tr>\n",
       "      <th>4</th>\n",
       "      <td>99881</td>\n",
       "      <td>0.691211</td>\n",
       "    </tr>\n",
       "    <tr>\n",
       "      <th>5</th>\n",
       "      <td>26630</td>\n",
       "      <td>0.863324</td>\n",
       "    </tr>\n",
       "    <tr>\n",
       "      <th>6</th>\n",
       "      <td>79934</td>\n",
       "      <td>0.268485</td>\n",
       "    </tr>\n",
       "    <tr>\n",
       "      <th>7</th>\n",
       "      <td>16605</td>\n",
       "      <td>0.189662</td>\n",
       "    </tr>\n",
       "    <tr>\n",
       "      <th>8</th>\n",
       "      <td>105449</td>\n",
       "      <td>0.171355</td>\n",
       "    </tr>\n",
       "    <tr>\n",
       "      <th>9</th>\n",
       "      <td>49000</td>\n",
       "      <td>0.620563</td>\n",
       "    </tr>\n",
       "  </tbody>\n",
       "</table>\n",
       "</div>"
      ],
      "text/plain": [
       "   client_id   default\n",
       "0      74835  0.302802\n",
       "1      17527  0.869625\n",
       "2      75683  0.430835\n",
       "3      26883  0.513315\n",
       "4      99881  0.691211\n",
       "5      26630  0.863324\n",
       "6      79934  0.268485\n",
       "7      16605  0.189662\n",
       "8     105449  0.171355\n",
       "9      49000  0.620563"
      ]
     },
     "execution_count": 67,
     "metadata": {},
     "output_type": "execute_result"
    }
   ],
   "source": [
    "my_submission = pd.DataFrame({'client_id': client_id_list, 'default': y_pred_probs})\n",
    "my_submission.to_csv('submission.csv', index=False)\n",
    "my_submission.head(10)"
   ]
  },
  {
   "cell_type": "code",
   "execution_count": 68,
   "metadata": {},
   "outputs": [
    {
     "data": {
      "text/plain": [
       "(32751, 2)"
      ]
     },
     "execution_count": 68,
     "metadata": {},
     "output_type": "execute_result"
    }
   ],
   "source": [
    "my_submission.shape"
   ]
  }
 ],
 "metadata": {
  "kernelspec": {
   "display_name": "Python 3",
   "language": "python",
   "name": "python3"
  },
  "language_info": {
   "codemirror_mode": {
    "name": "ipython",
    "version": 3
   },
   "file_extension": ".py",
   "mimetype": "text/x-python",
   "name": "python",
   "nbconvert_exporter": "python",
   "pygments_lexer": "ipython3",
   "version": "3.8.8"
  }
 },
 "nbformat": 4,
 "nbformat_minor": 4
}
